{
 "cells": [
  {
   "cell_type": "code",
   "execution_count": 5,
   "id": "73e41270",
   "metadata": {},
   "outputs": [],
   "source": [
    "import sys\n",
    "import os\n",
    "import pandas as pd\n",
    "import json\n",
    "\n",
    "# Add path to 'src' for imports\n",
    "sys.path.append(os.path.abspath(\"../../src\"))\n",
    "\n",
    "from noise import add_combined_noise\n",
    "from train_bert import train_and_evaluate\n"
   ]
  },
  {
   "cell_type": "code",
   "execution_count": 6,
   "id": "d2a28050",
   "metadata": {},
   "outputs": [
    {
     "name": "stdout",
     "output_type": "stream",
     "text": [
      "Running noise_5 – repetition 1\n"
     ]
    },
    {
     "name": "stderr",
     "output_type": "stream",
     "text": [
      "Some weights of BertForSequenceClassification were not initialized from the model checkpoint at bert-base-uncased and are newly initialized: ['classifier.bias', 'classifier.weight']\n",
      "You should probably TRAIN this model on a down-stream task to be able to use it for predictions and inference.\n"
     ]
    },
    {
     "name": "stdout",
     "output_type": "stream",
     "text": [
      "{'train_runtime': 49.2898, 'train_samples_per_second': 16.231, 'train_steps_per_second': 2.029, 'train_loss': 0.29834957122802735, 'epoch': 1.0}\n",
      "Running noise_5 – repetition 2\n"
     ]
    },
    {
     "name": "stderr",
     "output_type": "stream",
     "text": [
      "Some weights of BertForSequenceClassification were not initialized from the model checkpoint at bert-base-uncased and are newly initialized: ['classifier.bias', 'classifier.weight']\n",
      "You should probably TRAIN this model on a down-stream task to be able to use it for predictions and inference.\n"
     ]
    },
    {
     "name": "stdout",
     "output_type": "stream",
     "text": [
      "{'train_runtime': 46.0957, 'train_samples_per_second': 17.355, 'train_steps_per_second': 2.169, 'train_loss': 0.363526496887207, 'epoch': 1.0}\n",
      "Running noise_5 – repetition 3\n"
     ]
    },
    {
     "name": "stderr",
     "output_type": "stream",
     "text": [
      "Some weights of BertForSequenceClassification were not initialized from the model checkpoint at bert-base-uncased and are newly initialized: ['classifier.bias', 'classifier.weight']\n",
      "You should probably TRAIN this model on a down-stream task to be able to use it for predictions and inference.\n"
     ]
    },
    {
     "name": "stdout",
     "output_type": "stream",
     "text": [
      "{'train_runtime': 46.3217, 'train_samples_per_second': 17.271, 'train_steps_per_second': 2.159, 'train_loss': 0.36721805572509764, 'epoch': 1.0}\n"
     ]
    },
    {
     "data": {
      "application/vnd.microsoft.datawrangler.viewer.v0+json": {
       "columns": [
        {
         "name": "index",
         "rawType": "int64",
         "type": "integer"
        },
        {
         "name": "accuracy",
         "rawType": "float64",
         "type": "float"
        },
        {
         "name": "f1_phishing",
         "rawType": "float64",
         "type": "float"
        },
        {
         "name": "precision",
         "rawType": "float64",
         "type": "float"
        },
        {
         "name": "recall",
         "rawType": "float64",
         "type": "float"
        },
        {
         "name": "noise_level",
         "rawType": "object",
         "type": "string"
        },
        {
         "name": "run",
         "rawType": "int64",
         "type": "integer"
        }
       ],
       "conversionMethod": "pd.DataFrame",
       "ref": "f9cc446a-5183-41a5-88eb-1bdb65569235",
       "rows": [
        [
         "0",
         "0.96",
         "0.963",
         "0.963",
         "0.963",
         "noise_5",
         "1"
        ],
        [
         "1",
         "0.97",
         "0.9717",
         "0.9904",
         "0.9537",
         "noise_5",
         "2"
        ],
        [
         "2",
         "0.97",
         "0.972",
         "0.9811",
         "0.963",
         "noise_5",
         "3"
        ]
       ],
       "shape": {
        "columns": 6,
        "rows": 3
       }
      },
      "text/html": [
       "<div>\n",
       "<style scoped>\n",
       "    .dataframe tbody tr th:only-of-type {\n",
       "        vertical-align: middle;\n",
       "    }\n",
       "\n",
       "    .dataframe tbody tr th {\n",
       "        vertical-align: top;\n",
       "    }\n",
       "\n",
       "    .dataframe thead th {\n",
       "        text-align: right;\n",
       "    }\n",
       "</style>\n",
       "<table border=\"1\" class=\"dataframe\">\n",
       "  <thead>\n",
       "    <tr style=\"text-align: right;\">\n",
       "      <th></th>\n",
       "      <th>accuracy</th>\n",
       "      <th>f1_phishing</th>\n",
       "      <th>precision</th>\n",
       "      <th>recall</th>\n",
       "      <th>noise_level</th>\n",
       "      <th>run</th>\n",
       "    </tr>\n",
       "  </thead>\n",
       "  <tbody>\n",
       "    <tr>\n",
       "      <th>0</th>\n",
       "      <td>0.96</td>\n",
       "      <td>0.9630</td>\n",
       "      <td>0.9630</td>\n",
       "      <td>0.9630</td>\n",
       "      <td>noise_5</td>\n",
       "      <td>1</td>\n",
       "    </tr>\n",
       "    <tr>\n",
       "      <th>1</th>\n",
       "      <td>0.97</td>\n",
       "      <td>0.9717</td>\n",
       "      <td>0.9904</td>\n",
       "      <td>0.9537</td>\n",
       "      <td>noise_5</td>\n",
       "      <td>2</td>\n",
       "    </tr>\n",
       "    <tr>\n",
       "      <th>2</th>\n",
       "      <td>0.97</td>\n",
       "      <td>0.9720</td>\n",
       "      <td>0.9811</td>\n",
       "      <td>0.9630</td>\n",
       "      <td>noise_5</td>\n",
       "      <td>3</td>\n",
       "    </tr>\n",
       "  </tbody>\n",
       "</table>\n",
       "</div>"
      ],
      "text/plain": [
       "   accuracy  f1_phishing  precision  recall noise_level  run\n",
       "0      0.96       0.9630     0.9630  0.9630     noise_5    1\n",
       "1      0.97       0.9717     0.9904  0.9537     noise_5    2\n",
       "2      0.97       0.9720     0.9811  0.9630     noise_5    3"
      ]
     },
     "execution_count": 6,
     "metadata": {},
     "output_type": "execute_result"
    }
   ],
   "source": [
    "metrics_list = []\n",
    "noise_tag = \"noise_5\"\n",
    "\n",
    "for run in range(3):\n",
    "    print(f\"Running {noise_tag} – repetition {run + 1}\")\n",
    "\n",
    "    #  base data\n",
    "    df = pd.read_csv(\"../../data/cleaning/2_cleaned_data.csv\")\n",
    "\n",
    "    #  columns to single message\n",
    "    df[\"text\"] = df[[\"sender\", \"receiver\", \"urls\", \"clean_text\"]].fillna(\"\").astype(str).agg(\" \".join, axis=1)\n",
    "\n",
    "    #  BERT input format\n",
    "    df = df[[\"text\", \"label\"]].rename(columns={\"text\": \"body\"})\n",
    "\n",
    "    #  5% combined noise (unique seed per run)\n",
    "    df[\"body\"] = df[\"body\"].apply(lambda x: add_combined_noise(x, noise_level=0.05, seed=42 + run))\n",
    "\n",
    "    # Run \n",
    "    tag = f\"{noise_tag}_r{run+1}\"\n",
    "    train_and_evaluate(df, model_tag=tag, text_col=\"body\")\n",
    "\n",
    "    # save\n",
    "    with open(f\"results/metrics_{tag}.json\") as f:\n",
    "        metrics = json.load(f)\n",
    "        metrics[\"noise_level\"] = noise_tag\n",
    "        metrics[\"run\"] = run + 1\n",
    "        metrics_list.append(metrics)\n",
    "\n",
    "# Save \n",
    "df_metrics = pd.DataFrame(metrics_list)\n",
    "df_metrics.to_csv(f\"results/metrics_{noise_tag}.csv\", index=False)\n",
    "df_metrics\n"
   ]
  },
  {
   "cell_type": "code",
   "execution_count": null,
   "id": "3ae09e35",
   "metadata": {},
   "outputs": [],
   "source": []
  }
 ],
 "metadata": {
  "kernelspec": {
   "display_name": "base",
   "language": "python",
   "name": "python3"
  },
  "language_info": {
   "codemirror_mode": {
    "name": "ipython",
    "version": 3
   },
   "file_extension": ".py",
   "mimetype": "text/x-python",
   "name": "python",
   "nbconvert_exporter": "python",
   "pygments_lexer": "ipython3",
   "version": "3.12.6"
  }
 },
 "nbformat": 4,
 "nbformat_minor": 5
}
