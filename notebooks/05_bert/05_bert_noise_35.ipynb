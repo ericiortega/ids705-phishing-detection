{
 "cells": [
  {
   "cell_type": "code",
   "execution_count": 1,
   "id": "dcfc46c6",
   "metadata": {},
   "outputs": [
    {
     "name": "stdout",
     "output_type": "stream",
     "text": [
      "Running noise_35 – repetition 1\n"
     ]
    },
    {
     "name": "stderr",
     "output_type": "stream",
     "text": [
      "Some weights of BertForSequenceClassification were not initialized from the model checkpoint at bert-base-uncased and are newly initialized: ['classifier.bias', 'classifier.weight']\n",
      "You should probably TRAIN this model on a down-stream task to be able to use it for predictions and inference.\n"
     ]
    },
    {
     "name": "stdout",
     "output_type": "stream",
     "text": [
      "{'train_runtime': 83.1099, 'train_samples_per_second': 9.626, 'train_steps_per_second': 1.203, 'train_loss': 0.38226139068603515, 'epoch': 1.0}\n",
      "Running noise_35 – repetition 2\n"
     ]
    },
    {
     "name": "stderr",
     "output_type": "stream",
     "text": [
      "Some weights of BertForSequenceClassification were not initialized from the model checkpoint at bert-base-uncased and are newly initialized: ['classifier.bias', 'classifier.weight']\n",
      "You should probably TRAIN this model on a down-stream task to be able to use it for predictions and inference.\n"
     ]
    },
    {
     "name": "stdout",
     "output_type": "stream",
     "text": [
      "{'train_runtime': 95.2489, 'train_samples_per_second': 8.399, 'train_steps_per_second': 1.05, 'train_loss': 0.436374626159668, 'epoch': 1.0}\n",
      "Running noise_35 – repetition 3\n"
     ]
    },
    {
     "name": "stderr",
     "output_type": "stream",
     "text": [
      "Some weights of BertForSequenceClassification were not initialized from the model checkpoint at bert-base-uncased and are newly initialized: ['classifier.bias', 'classifier.weight']\n",
      "You should probably TRAIN this model on a down-stream task to be able to use it for predictions and inference.\n"
     ]
    },
    {
     "name": "stdout",
     "output_type": "stream",
     "text": [
      "{'train_runtime': 98.1182, 'train_samples_per_second': 8.153, 'train_steps_per_second': 1.019, 'train_loss': 0.39586246490478516, 'epoch': 1.0}\n"
     ]
    },
    {
     "data": {
      "application/vnd.microsoft.datawrangler.viewer.v0+json": {
       "columns": [
        {
         "name": "index",
         "rawType": "int64",
         "type": "integer"
        },
        {
         "name": "accuracy",
         "rawType": "float64",
         "type": "float"
        },
        {
         "name": "f1_phishing",
         "rawType": "float64",
         "type": "float"
        },
        {
         "name": "precision",
         "rawType": "float64",
         "type": "float"
        },
        {
         "name": "recall",
         "rawType": "float64",
         "type": "float"
        },
        {
         "name": "noise_level",
         "rawType": "object",
         "type": "string"
        },
        {
         "name": "run",
         "rawType": "int64",
         "type": "integer"
        }
       ],
       "conversionMethod": "pd.DataFrame",
       "ref": "cd3950e4-b1c2-4fe4-8699-83edfc0c2b71",
       "rows": [
        [
         "0",
         "0.95",
         "0.9558",
         "0.9153",
         "1.0",
         "noise_35",
         "1"
        ],
        [
         "1",
         "0.955",
         "0.9585",
         "0.9541",
         "0.963",
         "noise_35",
         "2"
        ],
        [
         "2",
         "0.975",
         "0.9767",
         "0.9813",
         "0.9722",
         "noise_35",
         "3"
        ]
       ],
       "shape": {
        "columns": 6,
        "rows": 3
       }
      },
      "text/html": [
       "<div>\n",
       "<style scoped>\n",
       "    .dataframe tbody tr th:only-of-type {\n",
       "        vertical-align: middle;\n",
       "    }\n",
       "\n",
       "    .dataframe tbody tr th {\n",
       "        vertical-align: top;\n",
       "    }\n",
       "\n",
       "    .dataframe thead th {\n",
       "        text-align: right;\n",
       "    }\n",
       "</style>\n",
       "<table border=\"1\" class=\"dataframe\">\n",
       "  <thead>\n",
       "    <tr style=\"text-align: right;\">\n",
       "      <th></th>\n",
       "      <th>accuracy</th>\n",
       "      <th>f1_phishing</th>\n",
       "      <th>precision</th>\n",
       "      <th>recall</th>\n",
       "      <th>noise_level</th>\n",
       "      <th>run</th>\n",
       "    </tr>\n",
       "  </thead>\n",
       "  <tbody>\n",
       "    <tr>\n",
       "      <th>0</th>\n",
       "      <td>0.950</td>\n",
       "      <td>0.9558</td>\n",
       "      <td>0.9153</td>\n",
       "      <td>1.0000</td>\n",
       "      <td>noise_35</td>\n",
       "      <td>1</td>\n",
       "    </tr>\n",
       "    <tr>\n",
       "      <th>1</th>\n",
       "      <td>0.955</td>\n",
       "      <td>0.9585</td>\n",
       "      <td>0.9541</td>\n",
       "      <td>0.9630</td>\n",
       "      <td>noise_35</td>\n",
       "      <td>2</td>\n",
       "    </tr>\n",
       "    <tr>\n",
       "      <th>2</th>\n",
       "      <td>0.975</td>\n",
       "      <td>0.9767</td>\n",
       "      <td>0.9813</td>\n",
       "      <td>0.9722</td>\n",
       "      <td>noise_35</td>\n",
       "      <td>3</td>\n",
       "    </tr>\n",
       "  </tbody>\n",
       "</table>\n",
       "</div>"
      ],
      "text/plain": [
       "   accuracy  f1_phishing  precision  recall noise_level  run\n",
       "0     0.950       0.9558     0.9153  1.0000    noise_35    1\n",
       "1     0.955       0.9585     0.9541  0.9630    noise_35    2\n",
       "2     0.975       0.9767     0.9813  0.9722    noise_35    3"
      ]
     },
     "execution_count": 1,
     "metadata": {},
     "output_type": "execute_result"
    }
   ],
   "source": [
    "import sys\n",
    "import os\n",
    "import pandas as pd\n",
    "import json\n",
    "\n",
    "#  path to src\n",
    "sys.path.append(os.path.abspath(\"../../src\"))\n",
    "\n",
    "from noise import add_combined_noise\n",
    "from train_bert import train_and_evaluate\n",
    "\n",
    "metrics_list = []\n",
    "noise_tag = \"noise_35\"\n",
    "\n",
    "for run in range(3):\n",
    "    print(f\"Running {noise_tag} – repetition {run + 1}\")\n",
    "\n",
    "    #  cleaned dataset\n",
    "    df = pd.read_csv(\"../../data/cleaning/2_cleaned_data.csv\")\n",
    "\n",
    "    #  relevant fields\n",
    "    df[\"text\"] = df[[\"sender\", \"receiver\", \"urls\", \"clean_text\"]].fillna(\"\").astype(str).agg(\" \".join, axis=1)\n",
    "\n",
    "    #  BERT input\n",
    "    df = df[[\"text\", \"label\"]].rename(columns={\"text\": \"body\"})\n",
    "\n",
    "    # Apply 35% combined noise\n",
    "    df[\"body\"] = df[\"body\"].apply(lambda x: add_combined_noise(x, noise_level=0.35, seed=42 + run))\n",
    "\n",
    "    # Run \n",
    "    tag = f\"{noise_tag}_r{run + 1}\"\n",
    "    train_and_evaluate(df, model_tag=tag, text_col=\"body\")\n",
    "\n",
    "    # Save metrics\n",
    "    with open(f\"results/metrics_{tag}.json\") as f:\n",
    "        metrics = json.load(f)\n",
    "        metrics[\"noise_level\"] = noise_tag\n",
    "        metrics[\"run\"] = run + 1\n",
    "        metrics_list.append(metrics)\n",
    "\n",
    "# Save \n",
    "df_metrics = pd.DataFrame(metrics_list)\n",
    "df_metrics.to_csv(f\"results/metrics_{noise_tag}.csv\", index=False)\n",
    "df_metrics\n"
   ]
  },
  {
   "cell_type": "code",
   "execution_count": null,
   "id": "7f811c58",
   "metadata": {},
   "outputs": [],
   "source": []
  }
 ],
 "metadata": {
  "kernelspec": {
   "display_name": "base",
   "language": "python",
   "name": "python3"
  },
  "language_info": {
   "codemirror_mode": {
    "name": "ipython",
    "version": 3
   },
   "file_extension": ".py",
   "mimetype": "text/x-python",
   "name": "python",
   "nbconvert_exporter": "python",
   "pygments_lexer": "ipython3",
   "version": "3.12.6"
  }
 },
 "nbformat": 4,
 "nbformat_minor": 5
}
