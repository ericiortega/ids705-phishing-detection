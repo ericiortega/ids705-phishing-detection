{
 "cells": [
  {
   "cell_type": "code",
   "execution_count": null,
   "id": "73e41270",
   "metadata": {},
   "outputs": [],
   "source": [
    "import pandas as pd\n",
    "import sys\n",
    "sys.path.append('../..')\n",
    "\n",
    "from src.noise import add_combined_noise\n",
    "from src.train_bert import train_and_evaluate\n",
    "\n",
    "# loading data\n",
    "df = pd.read_csv(\"https://raw.githubusercontent.com/ericiortega/ids705-phishing-detection/refs/heads/main/data/raw/trec_07.csv\")\n",
    "df = df[df[\"body\"].notna()]\n",
    "df = df[[\"body\", \"label\"]]\n",
    "\n",
    "# 5% noise\n",
    "df[\"body\"] = df[\"body\"].apply(lambda x: add_combined_noise(x, noise_level=0.05, seed=42))\n",
    "\n",
    "# Train and evaluate\n",
    "train_and_evaluate(df, model_tag=\"noise_5\")\n"
   ]
  }
 ],
 "metadata": {
  "language_info": {
   "name": "python"
  }
 },
 "nbformat": 4,
 "nbformat_minor": 5
}
