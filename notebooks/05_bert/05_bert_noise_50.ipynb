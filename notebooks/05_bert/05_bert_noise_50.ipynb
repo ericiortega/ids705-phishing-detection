{
 "cells": [
  {
   "cell_type": "code",
   "execution_count": 1,
   "id": "fde77162",
   "metadata": {},
   "outputs": [
    {
     "name": "stdout",
     "output_type": "stream",
     "text": [
      "Running noise_50 – repetition 1\n"
     ]
    },
    {
     "name": "stderr",
     "output_type": "stream",
     "text": [
      "Some weights of BertForSequenceClassification were not initialized from the model checkpoint at bert-base-uncased and are newly initialized: ['classifier.bias', 'classifier.weight']\n",
      "You should probably TRAIN this model on a down-stream task to be able to use it for predictions and inference.\n"
     ]
    },
    {
     "name": "stdout",
     "output_type": "stream",
     "text": [
      "{'train_runtime': 47.6849, 'train_samples_per_second': 16.777, 'train_steps_per_second': 2.097, 'train_loss': 0.42958019256591795, 'epoch': 1.0}\n",
      "Running noise_50 – repetition 2\n"
     ]
    },
    {
     "name": "stderr",
     "output_type": "stream",
     "text": [
      "Some weights of BertForSequenceClassification were not initialized from the model checkpoint at bert-base-uncased and are newly initialized: ['classifier.bias', 'classifier.weight']\n",
      "You should probably TRAIN this model on a down-stream task to be able to use it for predictions and inference.\n"
     ]
    },
    {
     "name": "stdout",
     "output_type": "stream",
     "text": [
      "{'train_runtime': 46.58, 'train_samples_per_second': 17.175, 'train_steps_per_second': 2.147, 'train_loss': 0.4656621170043945, 'epoch': 1.0}\n",
      "Running noise_50 – repetition 3\n"
     ]
    },
    {
     "name": "stderr",
     "output_type": "stream",
     "text": [
      "Some weights of BertForSequenceClassification were not initialized from the model checkpoint at bert-base-uncased and are newly initialized: ['classifier.bias', 'classifier.weight']\n",
      "You should probably TRAIN this model on a down-stream task to be able to use it for predictions and inference.\n"
     ]
    },
    {
     "name": "stdout",
     "output_type": "stream",
     "text": [
      "{'train_runtime': 46.5612, 'train_samples_per_second': 17.182, 'train_steps_per_second': 2.148, 'train_loss': 0.5100610733032227, 'epoch': 1.0}\n"
     ]
    },
    {
     "data": {
      "application/vnd.microsoft.datawrangler.viewer.v0+json": {
       "columns": [
        {
         "name": "index",
         "rawType": "int64",
         "type": "integer"
        },
        {
         "name": "accuracy",
         "rawType": "float64",
         "type": "float"
        },
        {
         "name": "f1_phishing",
         "rawType": "float64",
         "type": "float"
        },
        {
         "name": "precision",
         "rawType": "float64",
         "type": "float"
        },
        {
         "name": "recall",
         "rawType": "float64",
         "type": "float"
        },
        {
         "name": "noise_level",
         "rawType": "object",
         "type": "string"
        },
        {
         "name": "run",
         "rawType": "int64",
         "type": "integer"
        }
       ],
       "conversionMethod": "pd.DataFrame",
       "ref": "b336033d-c440-4b71-a1ba-d87845facd1f",
       "rows": [
        [
         "0",
         "0.92",
         "0.9286",
         "0.8966",
         "0.963",
         "noise_50",
         "1"
        ],
        [
         "1",
         "0.925",
         "0.9309",
         "0.9266",
         "0.9352",
         "noise_50",
         "2"
        ],
        [
         "2",
         "0.92",
         "0.931",
         "0.871",
         "1.0",
         "noise_50",
         "3"
        ]
       ],
       "shape": {
        "columns": 6,
        "rows": 3
       }
      },
      "text/html": [
       "<div>\n",
       "<style scoped>\n",
       "    .dataframe tbody tr th:only-of-type {\n",
       "        vertical-align: middle;\n",
       "    }\n",
       "\n",
       "    .dataframe tbody tr th {\n",
       "        vertical-align: top;\n",
       "    }\n",
       "\n",
       "    .dataframe thead th {\n",
       "        text-align: right;\n",
       "    }\n",
       "</style>\n",
       "<table border=\"1\" class=\"dataframe\">\n",
       "  <thead>\n",
       "    <tr style=\"text-align: right;\">\n",
       "      <th></th>\n",
       "      <th>accuracy</th>\n",
       "      <th>f1_phishing</th>\n",
       "      <th>precision</th>\n",
       "      <th>recall</th>\n",
       "      <th>noise_level</th>\n",
       "      <th>run</th>\n",
       "    </tr>\n",
       "  </thead>\n",
       "  <tbody>\n",
       "    <tr>\n",
       "      <th>0</th>\n",
       "      <td>0.920</td>\n",
       "      <td>0.9286</td>\n",
       "      <td>0.8966</td>\n",
       "      <td>0.9630</td>\n",
       "      <td>noise_50</td>\n",
       "      <td>1</td>\n",
       "    </tr>\n",
       "    <tr>\n",
       "      <th>1</th>\n",
       "      <td>0.925</td>\n",
       "      <td>0.9309</td>\n",
       "      <td>0.9266</td>\n",
       "      <td>0.9352</td>\n",
       "      <td>noise_50</td>\n",
       "      <td>2</td>\n",
       "    </tr>\n",
       "    <tr>\n",
       "      <th>2</th>\n",
       "      <td>0.920</td>\n",
       "      <td>0.9310</td>\n",
       "      <td>0.8710</td>\n",
       "      <td>1.0000</td>\n",
       "      <td>noise_50</td>\n",
       "      <td>3</td>\n",
       "    </tr>\n",
       "  </tbody>\n",
       "</table>\n",
       "</div>"
      ],
      "text/plain": [
       "   accuracy  f1_phishing  precision  recall noise_level  run\n",
       "0     0.920       0.9286     0.8966  0.9630    noise_50    1\n",
       "1     0.925       0.9309     0.9266  0.9352    noise_50    2\n",
       "2     0.920       0.9310     0.8710  1.0000    noise_50    3"
      ]
     },
     "execution_count": 1,
     "metadata": {},
     "output_type": "execute_result"
    }
   ],
   "source": [
    "import sys\n",
    "import os\n",
    "import pandas as pd\n",
    "import json\n",
    "\n",
    "#  path to src\n",
    "sys.path.append(os.path.abspath(\"../../src\"))\n",
    "\n",
    "from noise import add_combined_noise\n",
    "from train_bert import train_and_evaluate\n",
    "\n",
    "metrics_list = []\n",
    "noise_tag = \"noise_50\"\n",
    "\n",
    "for run in range(3):\n",
    "    print(f\"Running {noise_tag} – repetition {run + 1}\")\n",
    "\n",
    "    #  cleaned dataset\n",
    "    df = pd.read_csv(\"../../data/cleaning/2_cleaned_data.csv\")\n",
    "\n",
    "    #  relevant fields\n",
    "    df[\"text\"] = df[[\"sender\", \"receiver\", \"urls\", \"clean_text\"]].fillna(\"\").astype(str).agg(\" \".join, axis=1)\n",
    "\n",
    "    #  BERT input\n",
    "    df = df[[\"text\", \"label\"]].rename(columns={\"text\": \"body\"})\n",
    "\n",
    "    # Apply 50% combined noise\n",
    "    df[\"body\"] = df[\"body\"].apply(lambda x: add_combined_noise(x, noise_level=0.50, seed=42 + run))\n",
    "\n",
    "    # Run \n",
    "    tag = f\"{noise_tag}_r{run + 1}\"\n",
    "    train_and_evaluate(df, model_tag=tag, text_col=\"body\")\n",
    "\n",
    "    # Save metrics\n",
    "    with open(f\"results/metrics_{tag}.json\") as f:\n",
    "        metrics = json.load(f)\n",
    "        metrics[\"noise_level\"] = noise_tag\n",
    "        metrics[\"run\"] = run + 1\n",
    "        metrics_list.append(metrics)\n",
    "\n",
    "# Save \n",
    "df_metrics = pd.DataFrame(metrics_list)\n",
    "df_metrics.to_csv(f\"results/metrics_{noise_tag}.csv\", index=False)\n",
    "df_metrics\n"
   ]
  },
  {
   "cell_type": "code",
   "execution_count": null,
   "id": "22849a01",
   "metadata": {},
   "outputs": [],
   "source": []
  }
 ],
 "metadata": {
  "kernelspec": {
   "display_name": "base",
   "language": "python",
   "name": "python3"
  },
  "language_info": {
   "codemirror_mode": {
    "name": "ipython",
    "version": 3
   },
   "file_extension": ".py",
   "mimetype": "text/x-python",
   "name": "python",
   "nbconvert_exporter": "python",
   "pygments_lexer": "ipython3",
   "version": "3.12.6"
  }
 },
 "nbformat": 4,
 "nbformat_minor": 5
}
